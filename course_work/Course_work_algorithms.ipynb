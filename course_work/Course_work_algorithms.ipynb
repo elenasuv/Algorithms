{
 "cells": [
  {
   "cell_type": "markdown",
   "metadata": {},
   "source": [
    "### Курсовой проект \"Выбор репетитора\""
   ]
  },
  {
   "cell_type": "markdown",
   "metadata": {},
   "source": [
    "### Предобработка данных"
   ]
  },
  {
   "cell_type": "markdown",
   "metadata": {},
   "source": [
    "**Подключение библиотек**"
   ]
  },
  {
   "cell_type": "code",
   "execution_count": 456,
   "metadata": {},
   "outputs": [],
   "source": [
    "import numpy as np\n",
    "import pandas as pd\n",
    "from sklearn.model_selection import train_test_split\n",
    "import matplotlib\n",
    "import matplotlib.pyplot as plt\n",
    "import seaborn as sns\n",
    "%matplotlib inline"
   ]
  },
  {
   "cell_type": "markdown",
   "metadata": {},
   "source": [
    "**Пути к файлам**"
   ]
  },
  {
   "cell_type": "code",
   "execution_count": 457,
   "metadata": {},
   "outputs": [],
   "source": [
    "DATASET_PATH = 'train.csv'\n",
    "PREPARED_DATASET_PATH = 'train_prepared.csv'\n",
    "TEST_DATASET_PATH = 'test.csv'"
   ]
  },
  {
   "cell_type": "markdown",
   "metadata": {},
   "source": [
    "**Загрузка данных**"
   ]
  },
  {
   "cell_type": "code",
   "execution_count": 458,
   "metadata": {},
   "outputs": [
    {
     "data": {
      "text/html": [
       "<div>\n",
       "<style scoped>\n",
       "    .dataframe tbody tr th:only-of-type {\n",
       "        vertical-align: middle;\n",
       "    }\n",
       "\n",
       "    .dataframe tbody tr th {\n",
       "        vertical-align: top;\n",
       "    }\n",
       "\n",
       "    .dataframe thead th {\n",
       "        text-align: right;\n",
       "    }\n",
       "</style>\n",
       "<table border=\"1\" class=\"dataframe\">\n",
       "  <thead>\n",
       "    <tr style=\"text-align: right;\">\n",
       "      <th></th>\n",
       "      <th>Id</th>\n",
       "      <th>age</th>\n",
       "      <th>years_of_experience</th>\n",
       "      <th>lesson_price</th>\n",
       "      <th>qualification</th>\n",
       "      <th>physics</th>\n",
       "      <th>chemistry</th>\n",
       "      <th>biology</th>\n",
       "      <th>english</th>\n",
       "      <th>geography</th>\n",
       "      <th>history</th>\n",
       "      <th>mean_exam_points</th>\n",
       "      <th>choose</th>\n",
       "    </tr>\n",
       "  </thead>\n",
       "  <tbody>\n",
       "    <tr>\n",
       "      <td>0</td>\n",
       "      <td>0</td>\n",
       "      <td>35.0</td>\n",
       "      <td>0.0</td>\n",
       "      <td>2150.0</td>\n",
       "      <td>2.0</td>\n",
       "      <td>0.0</td>\n",
       "      <td>0.0</td>\n",
       "      <td>0.0</td>\n",
       "      <td>0.0</td>\n",
       "      <td>0.0</td>\n",
       "      <td>0.0</td>\n",
       "      <td>74.0</td>\n",
       "      <td>0</td>\n",
       "    </tr>\n",
       "    <tr>\n",
       "      <td>1</td>\n",
       "      <td>1</td>\n",
       "      <td>52.0</td>\n",
       "      <td>2.0</td>\n",
       "      <td>1250.0</td>\n",
       "      <td>2.0</td>\n",
       "      <td>1.0</td>\n",
       "      <td>0.0</td>\n",
       "      <td>1.0</td>\n",
       "      <td>0.0</td>\n",
       "      <td>0.0</td>\n",
       "      <td>1.0</td>\n",
       "      <td>57.0</td>\n",
       "      <td>1</td>\n",
       "    </tr>\n",
       "    <tr>\n",
       "      <td>2</td>\n",
       "      <td>2</td>\n",
       "      <td>29.0</td>\n",
       "      <td>3.0</td>\n",
       "      <td>1750.0</td>\n",
       "      <td>1.0</td>\n",
       "      <td>1.0</td>\n",
       "      <td>0.0</td>\n",
       "      <td>0.0</td>\n",
       "      <td>0.0</td>\n",
       "      <td>0.0</td>\n",
       "      <td>0.0</td>\n",
       "      <td>66.0</td>\n",
       "      <td>0</td>\n",
       "    </tr>\n",
       "    <tr>\n",
       "      <td>3</td>\n",
       "      <td>3</td>\n",
       "      <td>33.0</td>\n",
       "      <td>3.0</td>\n",
       "      <td>1050.0</td>\n",
       "      <td>1.0</td>\n",
       "      <td>0.0</td>\n",
       "      <td>0.0</td>\n",
       "      <td>0.0</td>\n",
       "      <td>0.0</td>\n",
       "      <td>0.0</td>\n",
       "      <td>0.0</td>\n",
       "      <td>66.0</td>\n",
       "      <td>1</td>\n",
       "    </tr>\n",
       "    <tr>\n",
       "      <td>4</td>\n",
       "      <td>4</td>\n",
       "      <td>46.0</td>\n",
       "      <td>3.0</td>\n",
       "      <td>2250.0</td>\n",
       "      <td>2.0</td>\n",
       "      <td>1.0</td>\n",
       "      <td>0.0</td>\n",
       "      <td>0.0</td>\n",
       "      <td>0.0</td>\n",
       "      <td>0.0</td>\n",
       "      <td>0.0</td>\n",
       "      <td>73.0</td>\n",
       "      <td>0</td>\n",
       "    </tr>\n",
       "  </tbody>\n",
       "</table>\n",
       "</div>"
      ],
      "text/plain": [
       "   Id   age  years_of_experience  lesson_price  qualification  physics  \\\n",
       "0   0  35.0                  0.0        2150.0            2.0      0.0   \n",
       "1   1  52.0                  2.0        1250.0            2.0      1.0   \n",
       "2   2  29.0                  3.0        1750.0            1.0      1.0   \n",
       "3   3  33.0                  3.0        1050.0            1.0      0.0   \n",
       "4   4  46.0                  3.0        2250.0            2.0      1.0   \n",
       "\n",
       "   chemistry  biology  english  geography  history  mean_exam_points  choose  \n",
       "0        0.0      0.0      0.0        0.0      0.0              74.0       0  \n",
       "1        0.0      1.0      0.0        0.0      1.0              57.0       1  \n",
       "2        0.0      0.0      0.0        0.0      0.0              66.0       0  \n",
       "3        0.0      0.0      0.0        0.0      0.0              66.0       1  \n",
       "4        0.0      0.0      0.0        0.0      0.0              73.0       0  "
      ]
     },
     "execution_count": 458,
     "metadata": {},
     "output_type": "execute_result"
    }
   ],
   "source": [
    "df = pd.read_csv(DATASET_PATH)\n",
    "df.head()"
   ]
  },
  {
   "cell_type": "markdown",
   "metadata": {},
   "source": [
    "**Форма массива**"
   ]
  },
  {
   "cell_type": "code",
   "execution_count": 459,
   "metadata": {},
   "outputs": [
    {
     "data": {
      "text/plain": [
       "(10000, 13)"
      ]
     },
     "execution_count": 459,
     "metadata": {},
     "output_type": "execute_result"
    }
   ],
   "source": [
    "df.shape"
   ]
  },
  {
   "cell_type": "markdown",
   "metadata": {},
   "source": [
    "**Общая информация о массиве**"
   ]
  },
  {
   "cell_type": "code",
   "execution_count": 460,
   "metadata": {},
   "outputs": [
    {
     "name": "stdout",
     "output_type": "stream",
     "text": [
      "<class 'pandas.core.frame.DataFrame'>\n",
      "RangeIndex: 10000 entries, 0 to 9999\n",
      "Data columns (total 13 columns):\n",
      "Id                     10000 non-null int64\n",
      "age                    10000 non-null float64\n",
      "years_of_experience    10000 non-null float64\n",
      "lesson_price           10000 non-null float64\n",
      "qualification          10000 non-null float64\n",
      "physics                10000 non-null float64\n",
      "chemistry              10000 non-null float64\n",
      "biology                10000 non-null float64\n",
      "english                10000 non-null float64\n",
      "geography              10000 non-null float64\n",
      "history                10000 non-null float64\n",
      "mean_exam_points       10000 non-null float64\n",
      "choose                 10000 non-null int64\n",
      "dtypes: float64(11), int64(2)\n",
      "memory usage: 1015.8 KB\n"
     ]
    }
   ],
   "source": [
    "df.info()"
   ]
  },
  {
   "cell_type": "markdown",
   "metadata": {},
   "source": [
    "**Cтатистические характеристики по столбцам с числовыми значениями**"
   ]
  },
  {
   "cell_type": "code",
   "execution_count": 461,
   "metadata": {},
   "outputs": [
    {
     "data": {
      "text/html": [
       "<div>\n",
       "<style scoped>\n",
       "    .dataframe tbody tr th:only-of-type {\n",
       "        vertical-align: middle;\n",
       "    }\n",
       "\n",
       "    .dataframe tbody tr th {\n",
       "        vertical-align: top;\n",
       "    }\n",
       "\n",
       "    .dataframe thead th {\n",
       "        text-align: right;\n",
       "    }\n",
       "</style>\n",
       "<table border=\"1\" class=\"dataframe\">\n",
       "  <thead>\n",
       "    <tr style=\"text-align: right;\">\n",
       "      <th></th>\n",
       "      <th>Id</th>\n",
       "      <th>age</th>\n",
       "      <th>years_of_experience</th>\n",
       "      <th>lesson_price</th>\n",
       "      <th>qualification</th>\n",
       "      <th>physics</th>\n",
       "      <th>chemistry</th>\n",
       "      <th>biology</th>\n",
       "      <th>english</th>\n",
       "      <th>geography</th>\n",
       "      <th>history</th>\n",
       "      <th>mean_exam_points</th>\n",
       "      <th>choose</th>\n",
       "    </tr>\n",
       "  </thead>\n",
       "  <tbody>\n",
       "    <tr>\n",
       "      <td>count</td>\n",
       "      <td>10000.0</td>\n",
       "      <td>10000.0</td>\n",
       "      <td>10000.0</td>\n",
       "      <td>10000.0</td>\n",
       "      <td>10000.0</td>\n",
       "      <td>10000.0</td>\n",
       "      <td>10000.0</td>\n",
       "      <td>10000.0</td>\n",
       "      <td>10000.0</td>\n",
       "      <td>10000.0</td>\n",
       "      <td>10000.0</td>\n",
       "      <td>10000.0</td>\n",
       "      <td>10000.0</td>\n",
       "    </tr>\n",
       "    <tr>\n",
       "      <td>mean</td>\n",
       "      <td>4999.5</td>\n",
       "      <td>45.8</td>\n",
       "      <td>2.0</td>\n",
       "      <td>1702.4</td>\n",
       "      <td>1.7</td>\n",
       "      <td>0.4</td>\n",
       "      <td>0.1</td>\n",
       "      <td>0.1</td>\n",
       "      <td>0.1</td>\n",
       "      <td>0.0</td>\n",
       "      <td>0.0</td>\n",
       "      <td>64.4</td>\n",
       "      <td>0.1</td>\n",
       "    </tr>\n",
       "    <tr>\n",
       "      <td>std</td>\n",
       "      <td>2886.9</td>\n",
       "      <td>8.0</td>\n",
       "      <td>1.8</td>\n",
       "      <td>523.8</td>\n",
       "      <td>0.8</td>\n",
       "      <td>0.5</td>\n",
       "      <td>0.3</td>\n",
       "      <td>0.3</td>\n",
       "      <td>0.2</td>\n",
       "      <td>0.2</td>\n",
       "      <td>0.1</td>\n",
       "      <td>13.6</td>\n",
       "      <td>0.3</td>\n",
       "    </tr>\n",
       "    <tr>\n",
       "      <td>min</td>\n",
       "      <td>0.0</td>\n",
       "      <td>23.0</td>\n",
       "      <td>0.0</td>\n",
       "      <td>200.0</td>\n",
       "      <td>1.0</td>\n",
       "      <td>0.0</td>\n",
       "      <td>0.0</td>\n",
       "      <td>0.0</td>\n",
       "      <td>0.0</td>\n",
       "      <td>0.0</td>\n",
       "      <td>0.0</td>\n",
       "      <td>33.0</td>\n",
       "      <td>0.0</td>\n",
       "    </tr>\n",
       "    <tr>\n",
       "      <td>25%</td>\n",
       "      <td>2499.8</td>\n",
       "      <td>40.0</td>\n",
       "      <td>0.0</td>\n",
       "      <td>1300.0</td>\n",
       "      <td>1.0</td>\n",
       "      <td>0.0</td>\n",
       "      <td>0.0</td>\n",
       "      <td>0.0</td>\n",
       "      <td>0.0</td>\n",
       "      <td>0.0</td>\n",
       "      <td>0.0</td>\n",
       "      <td>55.0</td>\n",
       "      <td>0.0</td>\n",
       "    </tr>\n",
       "    <tr>\n",
       "      <td>50%</td>\n",
       "      <td>4999.5</td>\n",
       "      <td>46.0</td>\n",
       "      <td>2.0</td>\n",
       "      <td>1550.0</td>\n",
       "      <td>2.0</td>\n",
       "      <td>0.0</td>\n",
       "      <td>0.0</td>\n",
       "      <td>0.0</td>\n",
       "      <td>0.0</td>\n",
       "      <td>0.0</td>\n",
       "      <td>0.0</td>\n",
       "      <td>63.0</td>\n",
       "      <td>0.0</td>\n",
       "    </tr>\n",
       "    <tr>\n",
       "      <td>75%</td>\n",
       "      <td>7499.2</td>\n",
       "      <td>51.0</td>\n",
       "      <td>3.0</td>\n",
       "      <td>2150.0</td>\n",
       "      <td>2.0</td>\n",
       "      <td>1.0</td>\n",
       "      <td>0.0</td>\n",
       "      <td>0.0</td>\n",
       "      <td>0.0</td>\n",
       "      <td>0.0</td>\n",
       "      <td>0.0</td>\n",
       "      <td>74.0</td>\n",
       "      <td>0.0</td>\n",
       "    </tr>\n",
       "    <tr>\n",
       "      <td>max</td>\n",
       "      <td>9999.0</td>\n",
       "      <td>68.0</td>\n",
       "      <td>9.0</td>\n",
       "      <td>3950.0</td>\n",
       "      <td>4.0</td>\n",
       "      <td>1.0</td>\n",
       "      <td>1.0</td>\n",
       "      <td>1.0</td>\n",
       "      <td>1.0</td>\n",
       "      <td>1.0</td>\n",
       "      <td>1.0</td>\n",
       "      <td>100.0</td>\n",
       "      <td>1.0</td>\n",
       "    </tr>\n",
       "  </tbody>\n",
       "</table>\n",
       "</div>"
      ],
      "text/plain": [
       "            Id      age  years_of_experience  lesson_price  qualification  \\\n",
       "count  10000.0  10000.0              10000.0       10000.0        10000.0   \n",
       "mean    4999.5     45.8                  2.0        1702.4            1.7   \n",
       "std     2886.9      8.0                  1.8         523.8            0.8   \n",
       "min        0.0     23.0                  0.0         200.0            1.0   \n",
       "25%     2499.8     40.0                  0.0        1300.0            1.0   \n",
       "50%     4999.5     46.0                  2.0        1550.0            2.0   \n",
       "75%     7499.2     51.0                  3.0        2150.0            2.0   \n",
       "max     9999.0     68.0                  9.0        3950.0            4.0   \n",
       "\n",
       "       physics  chemistry  biology  english  geography  history  \\\n",
       "count  10000.0    10000.0  10000.0  10000.0    10000.0  10000.0   \n",
       "mean       0.4        0.1      0.1      0.1        0.0      0.0   \n",
       "std        0.5        0.3      0.3      0.2        0.2      0.1   \n",
       "min        0.0        0.0      0.0      0.0        0.0      0.0   \n",
       "25%        0.0        0.0      0.0      0.0        0.0      0.0   \n",
       "50%        0.0        0.0      0.0      0.0        0.0      0.0   \n",
       "75%        1.0        0.0      0.0      0.0        0.0      0.0   \n",
       "max        1.0        1.0      1.0      1.0        1.0      1.0   \n",
       "\n",
       "       mean_exam_points   choose  \n",
       "count           10000.0  10000.0  \n",
       "mean               64.4      0.1  \n",
       "std                13.6      0.3  \n",
       "min                33.0      0.0  \n",
       "25%                55.0      0.0  \n",
       "50%                63.0      0.0  \n",
       "75%                74.0      0.0  \n",
       "max               100.0      1.0  "
      ]
     },
     "execution_count": 461,
     "metadata": {},
     "output_type": "execute_result"
    }
   ],
   "source": [
    "round(df.describe(),1)"
   ]
  },
  {
   "cell_type": "markdown",
   "metadata": {},
   "source": [
    "**Разделим train на целевую переменную и фичи**"
   ]
  },
  {
   "cell_type": "code",
   "execution_count": 462,
   "metadata": {},
   "outputs": [],
   "source": [
    "X = df.drop('choose', axis=1)\n",
    "y = df[['choose']]"
   ]
  },
  {
   "cell_type": "markdown",
   "metadata": {},
   "source": [
    "**Подготовка для предсказанной целевой переменной**"
   ]
  },
  {
   "cell_type": "code",
   "execution_count": 463,
   "metadata": {},
   "outputs": [],
   "source": [
    "df_test = pd.read_csv(TEST_DATASET_PATH)\n",
    "preds_final = pd.DataFrame()\n",
    "preds_final['Id'] = df_test['Id'].copy()"
   ]
  },
  {
   "cell_type": "markdown",
   "metadata": {},
   "source": [
    "**Назначим индексы датасета по столбцу Id**"
   ]
  },
  {
   "cell_type": "code",
   "execution_count": 464,
   "metadata": {},
   "outputs": [],
   "source": [
    "X.set_index('Id', inplace=True)\n",
    "df_test.set_index('Id', inplace=True)"
   ]
  },
  {
   "cell_type": "code",
   "execution_count": 465,
   "metadata": {},
   "outputs": [
    {
     "data": {
      "text/html": [
       "<div>\n",
       "<style scoped>\n",
       "    .dataframe tbody tr th:only-of-type {\n",
       "        vertical-align: middle;\n",
       "    }\n",
       "\n",
       "    .dataframe tbody tr th {\n",
       "        vertical-align: top;\n",
       "    }\n",
       "\n",
       "    .dataframe thead th {\n",
       "        text-align: right;\n",
       "    }\n",
       "</style>\n",
       "<table border=\"1\" class=\"dataframe\">\n",
       "  <thead>\n",
       "    <tr style=\"text-align: right;\">\n",
       "      <th></th>\n",
       "      <th>age</th>\n",
       "      <th>years_of_experience</th>\n",
       "      <th>lesson_price</th>\n",
       "      <th>qualification</th>\n",
       "      <th>physics</th>\n",
       "      <th>chemistry</th>\n",
       "      <th>biology</th>\n",
       "      <th>english</th>\n",
       "      <th>geography</th>\n",
       "      <th>history</th>\n",
       "      <th>mean_exam_points</th>\n",
       "    </tr>\n",
       "    <tr>\n",
       "      <th>Id</th>\n",
       "      <th></th>\n",
       "      <th></th>\n",
       "      <th></th>\n",
       "      <th></th>\n",
       "      <th></th>\n",
       "      <th></th>\n",
       "      <th></th>\n",
       "      <th></th>\n",
       "      <th></th>\n",
       "      <th></th>\n",
       "      <th></th>\n",
       "    </tr>\n",
       "  </thead>\n",
       "  <tbody>\n",
       "    <tr>\n",
       "      <td>0</td>\n",
       "      <td>35.0</td>\n",
       "      <td>0.0</td>\n",
       "      <td>2150.0</td>\n",
       "      <td>2.0</td>\n",
       "      <td>0.0</td>\n",
       "      <td>0.0</td>\n",
       "      <td>0.0</td>\n",
       "      <td>0.0</td>\n",
       "      <td>0.0</td>\n",
       "      <td>0.0</td>\n",
       "      <td>74.0</td>\n",
       "    </tr>\n",
       "    <tr>\n",
       "      <td>1</td>\n",
       "      <td>52.0</td>\n",
       "      <td>2.0</td>\n",
       "      <td>1250.0</td>\n",
       "      <td>2.0</td>\n",
       "      <td>1.0</td>\n",
       "      <td>0.0</td>\n",
       "      <td>1.0</td>\n",
       "      <td>0.0</td>\n",
       "      <td>0.0</td>\n",
       "      <td>1.0</td>\n",
       "      <td>57.0</td>\n",
       "    </tr>\n",
       "    <tr>\n",
       "      <td>2</td>\n",
       "      <td>29.0</td>\n",
       "      <td>3.0</td>\n",
       "      <td>1750.0</td>\n",
       "      <td>1.0</td>\n",
       "      <td>1.0</td>\n",
       "      <td>0.0</td>\n",
       "      <td>0.0</td>\n",
       "      <td>0.0</td>\n",
       "      <td>0.0</td>\n",
       "      <td>0.0</td>\n",
       "      <td>66.0</td>\n",
       "    </tr>\n",
       "    <tr>\n",
       "      <td>3</td>\n",
       "      <td>33.0</td>\n",
       "      <td>3.0</td>\n",
       "      <td>1050.0</td>\n",
       "      <td>1.0</td>\n",
       "      <td>0.0</td>\n",
       "      <td>0.0</td>\n",
       "      <td>0.0</td>\n",
       "      <td>0.0</td>\n",
       "      <td>0.0</td>\n",
       "      <td>0.0</td>\n",
       "      <td>66.0</td>\n",
       "    </tr>\n",
       "    <tr>\n",
       "      <td>4</td>\n",
       "      <td>46.0</td>\n",
       "      <td>3.0</td>\n",
       "      <td>2250.0</td>\n",
       "      <td>2.0</td>\n",
       "      <td>1.0</td>\n",
       "      <td>0.0</td>\n",
       "      <td>0.0</td>\n",
       "      <td>0.0</td>\n",
       "      <td>0.0</td>\n",
       "      <td>0.0</td>\n",
       "      <td>73.0</td>\n",
       "    </tr>\n",
       "  </tbody>\n",
       "</table>\n",
       "</div>"
      ],
      "text/plain": [
       "     age  years_of_experience  lesson_price  qualification  physics  \\\n",
       "Id                                                                    \n",
       "0   35.0                  0.0        2150.0            2.0      0.0   \n",
       "1   52.0                  2.0        1250.0            2.0      1.0   \n",
       "2   29.0                  3.0        1750.0            1.0      1.0   \n",
       "3   33.0                  3.0        1050.0            1.0      0.0   \n",
       "4   46.0                  3.0        2250.0            2.0      1.0   \n",
       "\n",
       "    chemistry  biology  english  geography  history  mean_exam_points  \n",
       "Id                                                                     \n",
       "0         0.0      0.0      0.0        0.0      0.0              74.0  \n",
       "1         0.0      1.0      0.0        0.0      1.0              57.0  \n",
       "2         0.0      0.0      0.0        0.0      0.0              66.0  \n",
       "3         0.0      0.0      0.0        0.0      0.0              66.0  \n",
       "4         0.0      0.0      0.0        0.0      0.0              73.0  "
      ]
     },
     "execution_count": 465,
     "metadata": {},
     "output_type": "execute_result"
    }
   ],
   "source": [
    "X.head()"
   ]
  },
  {
   "cell_type": "markdown",
   "metadata": {},
   "source": [
    "**Форма массива на тестовых данных**"
   ]
  },
  {
   "cell_type": "code",
   "execution_count": 466,
   "metadata": {},
   "outputs": [
    {
     "data": {
      "text/plain": [
       "(10000, 11)"
      ]
     },
     "execution_count": 466,
     "metadata": {},
     "output_type": "execute_result"
    }
   ],
   "source": [
    "df_test.shape"
   ]
  },
  {
   "cell_type": "markdown",
   "metadata": {},
   "source": [
    "\n",
    "### Выбросы"
   ]
  },
  {
   "cell_type": "markdown",
   "metadata": {},
   "source": [
    "**Age**"
   ]
  },
  {
   "cell_type": "code",
   "execution_count": 467,
   "metadata": {},
   "outputs": [
    {
     "data": {
      "text/plain": [
       "44.0    491\n",
       "43.0    485\n",
       "48.0    482\n",
       "45.0    474\n",
       "47.0    470\n",
       "42.0    469\n",
       "46.0    466\n",
       "49.0    443\n",
       "50.0    430\n",
       "51.0    411\n",
       "40.0    408\n",
       "41.0    391\n",
       "39.0    367\n",
       "52.0    359\n",
       "53.0    333\n",
       "38.0    311\n",
       "54.0    307\n",
       "37.0    270\n",
       "55.0    249\n",
       "36.0    239\n",
       "56.0    210\n",
       "35.0    191\n",
       "57.0    190\n",
       "34.0    165\n",
       "33.0    158\n",
       "58.0    153\n",
       "59.0    133\n",
       "32.0    127\n",
       "60.0    105\n",
       "31.0     92\n",
       "61.0     80\n",
       "62.0     68\n",
       "30.0     66\n",
       "63.0     56\n",
       "28.0     49\n",
       "64.0     46\n",
       "29.0     46\n",
       "68.0     38\n",
       "27.0     35\n",
       "65.0     31\n",
       "66.0     24\n",
       "23.0     21\n",
       "26.0     21\n",
       "25.0     17\n",
       "67.0     14\n",
       "24.0      9\n",
       "Name: age, dtype: int64"
      ]
     },
     "execution_count": 467,
     "metadata": {},
     "output_type": "execute_result"
    }
   ],
   "source": [
    "X['age'].value_counts()"
   ]
  },
  {
   "cell_type": "markdown",
   "metadata": {},
   "source": [
    "**years_of_experience**"
   ]
  },
  {
   "cell_type": "code",
   "execution_count": 468,
   "metadata": {},
   "outputs": [
    {
     "data": {
      "text/plain": [
       "0.0    2774\n",
       "1.0    1842\n",
       "2.0    1743\n",
       "3.0    1545\n",
       "4.0    1177\n",
       "5.0     581\n",
       "6.0     234\n",
       "7.0      73\n",
       "8.0      22\n",
       "9.0       9\n",
       "Name: years_of_experience, dtype: int64"
      ]
     },
     "execution_count": 468,
     "metadata": {},
     "output_type": "execute_result"
    }
   ],
   "source": [
    "X['years_of_experience'].value_counts()"
   ]
  },
  {
   "cell_type": "markdown",
   "metadata": {},
   "source": [
    "**lesson_price**"
   ]
  },
  {
   "cell_type": "code",
   "execution_count": 469,
   "metadata": {},
   "outputs": [
    {
     "data": {
      "text/plain": [
       "450.0       1\n",
       "3650.0      1\n",
       "3950.0      1\n",
       "3700.0      2\n",
       "200.0       2\n",
       "3750.0      2\n",
       "600.0       2\n",
       "400.0       2\n",
       "3600.0      3\n",
       "500.0       3\n",
       "3500.0      3\n",
       "350.0       4\n",
       "3450.0      5\n",
       "3350.0      7\n",
       "550.0       7\n",
       "3400.0      7\n",
       "3550.0      8\n",
       "650.0      13\n",
       "3200.0     15\n",
       "750.0      15\n",
       "3300.0     16\n",
       "3250.0     17\n",
       "700.0      18\n",
       "3150.0     18\n",
       "800.0      26\n",
       "3000.0     31\n",
       "3050.0     32\n",
       "2950.0     33\n",
       "850.0      36\n",
       "900.0      38\n",
       "3100.0     40\n",
       "2900.0     54\n",
       "2850.0     60\n",
       "950.0      66\n",
       "2450.0     69\n",
       "2500.0     70\n",
       "2800.0     74\n",
       "2700.0     74\n",
       "2600.0     76\n",
       "1950.0     76\n",
       "2550.0     77\n",
       "1000.0     78\n",
       "2750.0     82\n",
       "2650.0     87\n",
       "2400.0     89\n",
       "1900.0     91\n",
       "2000.0    103\n",
       "2050.0    112\n",
       "1850.0    124\n",
       "1050.0    127\n",
       "Name: lesson_price, dtype: int64"
      ]
     },
     "execution_count": 469,
     "metadata": {},
     "output_type": "execute_result"
    }
   ],
   "source": [
    "X['lesson_price'].value_counts().sort_values().head(50)\n",
    "# > 3349\n",
    "# < 601"
   ]
  },
  {
   "cell_type": "markdown",
   "metadata": {},
   "source": [
    "**qualification**"
   ]
  },
  {
   "cell_type": "code",
   "execution_count": 470,
   "metadata": {},
   "outputs": [
    {
     "data": {
      "text/plain": [
       "1.0    4891\n",
       "2.0    3033\n",
       "3.0    2018\n",
       "4.0      58\n",
       "Name: qualification, dtype: int64"
      ]
     },
     "execution_count": 470,
     "metadata": {},
     "output_type": "execute_result"
    }
   ],
   "source": [
    "X['qualification'].value_counts()"
   ]
  },
  {
   "cell_type": "markdown",
   "metadata": {},
   "source": [
    "**mean_exam_points**"
   ]
  },
  {
   "cell_type": "code",
   "execution_count": 471,
   "metadata": {},
   "outputs": [
    {
     "data": {
      "text/plain": [
       "100.0      1\n",
       "99.0       1\n",
       "98.0       3\n",
       "33.0       6\n",
       "97.0      10\n",
       "96.0      14\n",
       "95.0      20\n",
       "35.0      23\n",
       "34.0      23\n",
       "94.0      31\n",
       "93.0      33\n",
       "36.0      42\n",
       "92.0      47\n",
       "38.0      60\n",
       "37.0      62\n",
       "91.0      62\n",
       "39.0      71\n",
       "44.0      78\n",
       "42.0      79\n",
       "40.0      79\n",
       "41.0      83\n",
       "90.0      83\n",
       "46.0      89\n",
       "79.0     106\n",
       "89.0     106\n",
       "43.0     107\n",
       "48.0     111\n",
       "45.0     114\n",
       "76.0     116\n",
       "77.0     117\n",
       "47.0     123\n",
       "78.0     130\n",
       "86.0     132\n",
       "80.0     132\n",
       "82.0     137\n",
       "75.0     140\n",
       "49.0     147\n",
       "84.0     148\n",
       "87.0     149\n",
       "81.0     152\n",
       "88.0     152\n",
       "74.0     155\n",
       "73.0     157\n",
       "72.0     162\n",
       "83.0     167\n",
       "85.0     176\n",
       "52.0     192\n",
       "71.0     192\n",
       "50.0     196\n",
       "51.0     212\n",
       "Name: mean_exam_points, dtype: int64"
      ]
     },
     "execution_count": 471,
     "metadata": {},
     "output_type": "execute_result"
    }
   ],
   "source": [
    "X['mean_exam_points'].value_counts().sort_values().head(50)\n"
   ]
  },
  {
   "cell_type": "markdown",
   "metadata": {},
   "source": [
    "**physics**"
   ]
  },
  {
   "cell_type": "code",
   "execution_count": 472,
   "metadata": {},
   "outputs": [
    {
     "data": {
      "text/plain": [
       "0.0    6294\n",
       "1.0    3706\n",
       "Name: physics, dtype: int64"
      ]
     },
     "execution_count": 472,
     "metadata": {},
     "output_type": "execute_result"
    }
   ],
   "source": [
    "X['physics'].value_counts()"
   ]
  },
  {
   "cell_type": "markdown",
   "metadata": {},
   "source": [
    "**chemistry**"
   ]
  },
  {
   "cell_type": "code",
   "execution_count": 473,
   "metadata": {},
   "outputs": [
    {
     "data": {
      "text/plain": [
       "0.0    8785\n",
       "1.0    1215\n",
       "Name: chemistry, dtype: int64"
      ]
     },
     "execution_count": 473,
     "metadata": {},
     "output_type": "execute_result"
    }
   ],
   "source": [
    "X['chemistry'].value_counts()"
   ]
  },
  {
   "cell_type": "markdown",
   "metadata": {},
   "source": [
    "**biology**"
   ]
  },
  {
   "cell_type": "code",
   "execution_count": 474,
   "metadata": {},
   "outputs": [
    {
     "data": {
      "text/plain": [
       "0.0    8828\n",
       "1.0    1172\n",
       "Name: biology, dtype: int64"
      ]
     },
     "execution_count": 474,
     "metadata": {},
     "output_type": "execute_result"
    }
   ],
   "source": [
    "X['biology'].value_counts()"
   ]
  },
  {
   "cell_type": "markdown",
   "metadata": {},
   "source": [
    "**english**"
   ]
  },
  {
   "cell_type": "code",
   "execution_count": 475,
   "metadata": {},
   "outputs": [
    {
     "data": {
      "text/plain": [
       "0.0    9409\n",
       "1.0     591\n",
       "Name: english, dtype: int64"
      ]
     },
     "execution_count": 475,
     "metadata": {},
     "output_type": "execute_result"
    }
   ],
   "source": [
    "X['english'].value_counts()"
   ]
  },
  {
   "cell_type": "markdown",
   "metadata": {},
   "source": [
    "**geography**"
   ]
  },
  {
   "cell_type": "code",
   "execution_count": 476,
   "metadata": {},
   "outputs": [
    {
     "data": {
      "text/plain": [
       "0.0    9723\n",
       "1.0     277\n",
       "Name: geography, dtype: int64"
      ]
     },
     "execution_count": 476,
     "metadata": {},
     "output_type": "execute_result"
    }
   ],
   "source": [
    "X['geography'].value_counts()"
   ]
  },
  {
   "cell_type": "markdown",
   "metadata": {},
   "source": [
    "**history**\t"
   ]
  },
  {
   "cell_type": "code",
   "execution_count": 477,
   "metadata": {},
   "outputs": [
    {
     "data": {
      "text/plain": [
       "0.0    9820\n",
       "1.0     180\n",
       "Name: history, dtype: int64"
      ]
     },
     "execution_count": 477,
     "metadata": {},
     "output_type": "execute_result"
    }
   ],
   "source": [
    "X['history'].value_counts()"
   ]
  },
  {
   "cell_type": "markdown",
   "metadata": {},
   "source": [
    "### Гистограммы количественных признаков"
   ]
  },
  {
   "cell_type": "code",
   "execution_count": 478,
   "metadata": {},
   "outputs": [
    {
     "data": {
      "image/png": "[encoded data removed]",
      "text/plain": [
       "<Figure size 1152x1152 with 12 Axes>"
      ]
     },
     "metadata": {
      "needs_background": "light"
     },
     "output_type": "display_data"
    }
   ],
   "source": [
    "df_num_features = X.select_dtypes(include=['float64', 'int64'])\n",
    "df_num_features.hist(figsize=(16,16), bins=20, grid=False);"
   ]
  },
  {
   "cell_type": "markdown",
   "metadata": {},
   "source": [
    "### Преобразование данных"
   ]
  },
  {
   "cell_type": "code",
   "execution_count": 479,
   "metadata": {},
   "outputs": [],
   "source": [
    "class FeatureImputer:\n",
    "    'Обработка выбросов'\n",
    "    \n",
    "    def __init__(self):\n",
    "        self.medians=None\n",
    "        \n",
    "    def fit(self, X):\n",
    "        self.medians = X.median()\n",
    "    \n",
    "    def transform(self, X):\n",
    "        \n",
    "        \n",
    "        # english\n",
    "        if 'english' in X.columns:\n",
    "            X.drop('english', axis=1, inplace=True)\n",
    "            \n",
    "        # geography\n",
    "        if 'geography' in X.columns:\n",
    "            X.drop('geography', axis=1, inplace=True)\n",
    "        \n",
    "        # history\n",
    "        if 'history' in X.columns:\n",
    "            X.drop('history', axis=1, inplace=True)\n",
    "            \n",
    "   \n",
    "        \n",
    "        \n",
    "        \n",
    "            \n",
    "       \n",
    "        \n",
    "        return X"
   ]
  },
  {
   "cell_type": "markdown",
   "metadata": {},
   "source": [
    "**Применим очистку данных к train и test выборкам**"
   ]
  },
  {
   "cell_type": "code",
   "execution_count": 480,
   "metadata": {},
   "outputs": [],
   "source": [
    "imputer = FeatureImputer()\n",
    "\n",
    "imputer.fit(X)\n",
    "\n",
    "X = imputer.transform(X)\n",
    "df_test = imputer.transform(df_test)"
   ]
  },
  {
   "cell_type": "code",
   "execution_count": 481,
   "metadata": {},
   "outputs": [
    {
     "data": {
      "text/plain": [
       "(10000, 8)"
      ]
     },
     "execution_count": 481,
     "metadata": {},
     "output_type": "execute_result"
    }
   ],
   "source": [
    "X.shape"
   ]
  },
  {
   "cell_type": "code",
   "execution_count": 482,
   "metadata": {},
   "outputs": [
    {
     "data": {
      "text/plain": [
       "(10000, 8)"
      ]
     },
     "execution_count": 482,
     "metadata": {},
     "output_type": "execute_result"
    }
   ],
   "source": [
    "df_test.shape"
   ]
  },
  {
   "cell_type": "markdown",
   "metadata": {},
   "source": [
    "### Построение модели логистической регрессии"
   ]
  },
  {
   "cell_type": "code",
   "execution_count": 483,
   "metadata": {},
   "outputs": [],
   "source": [
    "# отмасштабируем признаки методом стандартизации\n",
    "def std(X):\n",
    "    \n",
    "    means = X.mean(axis=0)\n",
    "    stds = X.std(axis=0)\n",
    "\n",
    "    for i in range(X.shape[0]):\n",
    "        for j in range(X.shape[1]):\n",
    "            X.iloc[i, j] = (X.iloc[i, j] - means[j])/stds[j]"
   ]
  },
  {
   "cell_type": "code",
   "execution_count": 484,
   "metadata": {},
   "outputs": [],
   "source": [
    "std(X)"
   ]
  },
  {
   "cell_type": "code",
   "execution_count": 485,
   "metadata": {},
   "outputs": [],
   "source": [
    "std(df_test)"
   ]
  },
  {
   "cell_type": "code",
   "execution_count": 486,
   "metadata": {},
   "outputs": [],
   "source": [
    "# перемешивание датасета\n",
    "np.random.seed(12)\n",
    "shuffle_index = np.random.permutation(X.shape[0])\n",
    "X_shuffled, y_shuffled = X.iloc[shuffle_index], y.iloc[shuffle_index]\n",
    "\n",
    "# разбиваем выборку на train и test\n",
    "X_train, X_test, y_train, y_test = train_test_split(X_shuffled, y_shuffled, test_size=0.3)"
   ]
  },
  {
   "cell_type": "code",
   "execution_count": 487,
   "metadata": {},
   "outputs": [],
   "source": [
    "y_train_ = y_train.to_numpy()\n"
   ]
  },
  {
   "cell_type": "code",
   "execution_count": 500,
   "metadata": {},
   "outputs": [],
   "source": [
    "# транспонируем данные в строки\n",
    "X_train_tr = X_train.transpose().to_numpy()\n",
    "y_train_tr = y_train.transpose().to_numpy()\n",
    "X_test_tr = X_test.transpose().to_numpy()\n",
    "y_test_tr = y_test.transpose().to_numpy()\n",
    "df_test_tr = df_test.transpose().to_numpy()"
   ]
  },
  {
   "cell_type": "code",
   "execution_count": 489,
   "metadata": {},
   "outputs": [],
   "source": [
    "#реализуем функцию потерь log loss с одновременным расчетом градиента\n",
    "def sigmoid(x):\n",
    "    return 1 / (1 + np.exp(-x))\n",
    "\n",
    "def log_loss(w, X, y):\n",
    "    m = X.shape[1]\n",
    "\n",
    "    # используем функцию сигмоиды, написанную ранее\n",
    "    A = sigmoid(np.dot(w.T, X)) # вероятность отнесения объекта к классу \"+1\"\n",
    "    \n",
    "    # loss = -1.0 / m * np.sum(y * np.log(A) + (1 - y) * np.log(1 - A))\n",
    "    loss = -1.0 / m * np.log(1 + np.exp(np.dot(w.T, X)))\n",
    "    grad = 1.0 / m * np.dot(X, (A - y).T)\n",
    "    \n",
    "    return loss, grad"
   ]
  },
  {
   "cell_type": "code",
   "execution_count": 490,
   "metadata": {},
   "outputs": [],
   "source": [
    "#реализуем градиентный спуск\n",
    "def optimize(w, X, y, n_iterations, eta):\n",
    "#потери будем записывать в список для отображения в виде графика\n",
    "    losses = []\n",
    "    \n",
    "    for i in range(n_iterations):        \n",
    "        loss, grad = log_loss(w, X, y)\n",
    "        w = w - eta * grad\n",
    "\n",
    "        losses.append(loss)\n",
    "        \n",
    "    return w, losses"
   ]
  },
  {
   "cell_type": "code",
   "execution_count": 491,
   "metadata": {},
   "outputs": [],
   "source": [
    "#реализуем функцию для выполнения предсказаний\n",
    "def predict(w, X):\n",
    "    \n",
    "    m = X.shape[1]\n",
    "    \n",
    "    y_predicted = np.zeros((1, m))\n",
    "    w = w.reshape(X.shape[0], 1)\n",
    "    \n",
    "    A = sigmoid(np.dot(w.T, X))\n",
    "    \n",
    "#За порог отнесения к тому или иному классу примем вероятность 0.5\n",
    "    for i in range(A.shape[1]):\n",
    "        if (A[:,i] > 0.5): \n",
    "            y_predicted[:, i] = 1\n",
    "        elif (A[:,i] <= 0.5):\n",
    "            y_predicted[:, i] = 0\n",
    "    \n",
    "    return y_predicted "
   ]
  },
  {
   "cell_type": "code",
   "execution_count": 492,
   "metadata": {},
   "outputs": [],
   "source": [
    "#Расчет вероятности\n",
    "def predict_proba(w, X):  \n",
    "    A = sigmoid(np.dot(w.T, X))\n",
    "    return A"
   ]
  },
  {
   "cell_type": "code",
   "execution_count": 493,
   "metadata": {},
   "outputs": [],
   "source": [
    "# иницилизируем начальный вектор весов\n",
    "w0 = np.zeros((X_train_tr.shape[0], 1))\n",
    "\n",
    "n_iterations = 1000\n",
    "eta = 0.05\n",
    "\n",
    "w, losses = optimize(w0, X_train_tr, y_train_tr, n_iterations, eta)\n",
    "\n",
    "y_predicted_test = predict(w, X_test_tr)\n",
    "y_predicted_train = predict(w, X_train_tr)"
   ]
  },
  {
   "cell_type": "markdown",
   "metadata": {},
   "source": [
    "### ROC-AUC"
   ]
  },
  {
   "cell_type": "code",
   "execution_count": 494,
   "metadata": {},
   "outputs": [],
   "source": [
    "proba_test = (predict_proba(w, X_test_tr))[0]\n",
    "proba_train = (predict_proba(w, X_train_tr))[0]"
   ]
  },
  {
   "cell_type": "code",
   "execution_count": 495,
   "metadata": {},
   "outputs": [],
   "source": [
    "#матрица ошибок\n",
    "def confusion(predicted, actual):\n",
    "    TP=np.sum(np.logical_and(predicted==1, actual==1))\n",
    "    FP=np.sum(np.logical_and(predicted==1, actual==0))\n",
    "    FN=np.sum(np.logical_and(predicted==0, actual==1))\n",
    "    TN=np.sum(np.logical_and(predicted==0, actual==0))\n",
    "    return {'TP': TP, 'FP': FP, 'FN': FN, 'TN': TN}"
   ]
  },
  {
   "cell_type": "code",
   "execution_count": 496,
   "metadata": {},
   "outputs": [],
   "source": [
    "def roc_auc(proba, y):\n",
    "    TPR = []\n",
    "    FPR = []\n",
    "    for p in np.unique(proba)[::-1]:\n",
    "        curr_pred = (proba > p).astype(int)\n",
    "        confusion_fixed = confusion(curr_pred, y)\n",
    "        tpr = confusion_fixed['TP'] / (confusion_fixed['TP'] + confusion_fixed['FN'])\n",
    "        fpr = 1 - confusion_fixed['TN'] / (confusion_fixed['TN'] + confusion_fixed['FP'])\n",
    "        TPR.append(tpr)\n",
    "        FPR.append(fpr)\n",
    "    TPR.append(1)\n",
    "    FPR.append(1)\n",
    "    return TPR, FPR"
   ]
  },
  {
   "cell_type": "code",
   "execution_count": 497,
   "metadata": {},
   "outputs": [],
   "source": [
    "def roc_auc_plot(proba, y):\n",
    "    tpr = np.array(roc_auc(proba, y)[0])\n",
    "    fpr = np.array(roc_auc(proba, y)[1])\n",
    "    ROC_AUC = np.sum(0.5*(fpr[1:]-fpr[:-1])*(tpr[1:]+tpr[:-1]))\n",
    "\n",
    "    plt.title('ROC curve')\n",
    "    plt.ylim(0, 1.05)\n",
    "    plt.xlabel('FPR')\n",
    "    plt.ylabel('TPR')\n",
    "    plt.grid()\n",
    "    plt.legend(' ', title=f'ROC-AUC ={ROC_AUC:.3f}', loc='lower right')\n",
    "    plt.plot(fpr, tpr)"
   ]
  },
  {
   "cell_type": "code",
   "execution_count": 498,
   "metadata": {},
   "outputs": [
    {
     "data": {
      "image/png": "[encoded data removed]",
      "text/plain": [
       "<Figure size 432x288 with 1 Axes>"
      ]
     },
     "metadata": {
      "needs_background": "light"
     },
     "output_type": "display_data"
    }
   ],
   "source": [
    "roc_auc_plot(proba_train, y_train_tr)"
   ]
  },
  {
   "cell_type": "code",
   "execution_count": 499,
   "metadata": {},
   "outputs": [
    {
     "data": {
      "image/png": "[encoded data removed]",
      "text/plain": [
       "<Figure size 432x288 with 1 Axes>"
      ]
     },
     "metadata": {
      "needs_background": "light"
     },
     "output_type": "display_data"
    }
   ],
   "source": [
    "roc_auc_plot(proba_test, y_test_tr)"
   ]
  },
  {
   "cell_type": "code",
   "execution_count": 501,
   "metadata": {},
   "outputs": [],
   "source": [
    "y_pred_final = predict(w, df_test_tr)"
   ]
  },
  {
   "cell_type": "code",
   "execution_count": 505,
   "metadata": {},
   "outputs": [
    {
     "data": {
      "text/plain": [
       "array([0., 1., 0., ..., 1., 1., 1.])"
      ]
     },
     "execution_count": 505,
     "metadata": {},
     "output_type": "execute_result"
    }
   ],
   "source": [
    "y_pred_final.flatten()"
   ]
  },
  {
   "cell_type": "code",
   "execution_count": 507,
   "metadata": {},
   "outputs": [],
   "source": [
    "preds_final['choose'] = y_pred_final.flatten()\n",
    "preds_final.to_csv('predictions.csv', index=False)"
   ]
  },
  {
   "cell_type": "code",
   "execution_count": null,
   "metadata": {},
   "outputs": [],
   "source": []
  }
 ],
 "metadata": {
  "kernelspec": {
   "display_name": "Python 3",
   "language": "python",
   "name": "python3"
  },
  "language_info": {
   "codemirror_mode": {
    "name": "ipython",
    "version": 3
   },
   "file_extension": ".py",
   "mimetype": "text/x-python",
   "name": "python",
   "nbconvert_exporter": "python",
   "pygments_lexer": "ipython3",
   "version": "3.7.4"
  }
 },
 "nbformat": 4,
 "nbformat_minor": 2
}
